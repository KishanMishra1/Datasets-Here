{
 "cells": [
  {
   "cell_type": "markdown",
   "id": "d9ea8963",
   "metadata": {},
   "source": [
    "5.\tWrite a program to print all the common elements of 2 list."
   ]
  },
  {
   "cell_type": "code",
   "execution_count": 2,
   "id": "a5f59846",
   "metadata": {},
   "outputs": [],
   "source": [
    "l1=[1,2,3,5,6,7,8,34,56,78]\n",
    "l2=[2,4,9,11,16,75,45,23,56]"
   ]
  },
  {
   "cell_type": "code",
   "execution_count": 3,
   "id": "352a9fae",
   "metadata": {},
   "outputs": [],
   "source": [
    "# Solution 1"
   ]
  },
  {
   "cell_type": "code",
   "execution_count": 11,
   "id": "e5c18129",
   "metadata": {},
   "outputs": [
    {
     "name": "stdout",
     "output_type": "stream",
     "text": [
      "Common Elements are:\n",
      "2\n",
      "56\n"
     ]
    }
   ],
   "source": [
    "print(\"Common Elements are:\")\n",
    "for i in l1:\n",
    "    if  i in l2:\n",
    "        print(i)"
   ]
  },
  {
   "cell_type": "code",
   "execution_count": 12,
   "id": "57b70582",
   "metadata": {},
   "outputs": [],
   "source": [
    "# Solution 2"
   ]
  },
  {
   "cell_type": "code",
   "execution_count": 13,
   "id": "32dfc25d",
   "metadata": {},
   "outputs": [
    {
     "name": "stdout",
     "output_type": "stream",
     "text": [
      "{56, 2}\n"
     ]
    }
   ],
   "source": [
    "print(set(l1).intersection(set(l2)))"
   ]
  },
  {
   "cell_type": "code",
   "execution_count": 14,
   "id": "7fb91daf",
   "metadata": {},
   "outputs": [],
   "source": [
    "# Solution 3"
   ]
  },
  {
   "cell_type": "code",
   "execution_count": 16,
   "id": "858eb033",
   "metadata": {},
   "outputs": [
    {
     "name": "stdout",
     "output_type": "stream",
     "text": [
      "Common elements are : [56, 2]\n"
     ]
    }
   ],
   "source": [
    "a,b=set(l1),set(l2)\n",
    "print(\"Common elements are :\",list(a&b))"
   ]
  },
  {
   "cell_type": "markdown",
   "id": "20bd36b4",
   "metadata": {},
   "source": [
    "6.\tWrite a program to reverse a list."
   ]
  },
  {
   "cell_type": "code",
   "execution_count": 22,
   "id": "88e97e28",
   "metadata": {},
   "outputs": [],
   "source": [
    "# Solution 1"
   ]
  },
  {
   "cell_type": "code",
   "execution_count": 26,
   "id": "d7324f2a",
   "metadata": {},
   "outputs": [
    {
     "name": "stdout",
     "output_type": "stream",
     "text": [
      "[78, 56, 34, 8, 7, 6, 5, 3, 2, 1]\n"
     ]
    }
   ],
   "source": [
    "rev=[]\n",
    "for i in range(len(l1)-1,-1,-1):\n",
    "    rev.append(l1[i])\n",
    "print(rev)"
   ]
  },
  {
   "cell_type": "code",
   "execution_count": 27,
   "id": "1c6384f4",
   "metadata": {},
   "outputs": [],
   "source": [
    "# Solution 2"
   ]
  },
  {
   "cell_type": "code",
   "execution_count": 46,
   "id": "2fc9d63e",
   "metadata": {},
   "outputs": [
    {
     "name": "stdout",
     "output_type": "stream",
     "text": [
      "[78, 56, 34, 8, 7, 6, 5, 3, 2, 1]\n"
     ]
    }
   ],
   "source": [
    "l1.reverse()\n",
    "print(l1)\n",
    "#l1.reverse()"
   ]
  },
  {
   "cell_type": "code",
   "execution_count": 45,
   "id": "a6140a82",
   "metadata": {},
   "outputs": [],
   "source": [
    "#Solution 3"
   ]
  },
  {
   "cell_type": "code",
   "execution_count": 47,
   "id": "26e7cf74",
   "metadata": {},
   "outputs": [
    {
     "name": "stdout",
     "output_type": "stream",
     "text": [
      "[56, 23, 45, 75, 16, 11, 9, 4, 2]\n"
     ]
    }
   ],
   "source": [
    "print([i for i in reversed(l2)])"
   ]
  },
  {
   "cell_type": "code",
   "execution_count": 48,
   "id": "a7d4607a",
   "metadata": {},
   "outputs": [],
   "source": [
    "#Solution 4"
   ]
  },
  {
   "cell_type": "code",
   "execution_count": 49,
   "id": "2b57f63d",
   "metadata": {},
   "outputs": [
    {
     "name": "stdout",
     "output_type": "stream",
     "text": [
      "[56, 23, 45, 75, 16, 11, 9, 4, 2]\n"
     ]
    }
   ],
   "source": [
    "print(l2[::-1])"
   ]
  },
  {
   "cell_type": "markdown",
   "id": "333ea38c",
   "metadata": {},
   "source": [
    "7.\tWrite a program to find the second largest and second smallest value from a list.\n",
    "\n"
   ]
  },
  {
   "cell_type": "code",
   "execution_count": 83,
   "id": "eb273001",
   "metadata": {},
   "outputs": [],
   "source": [
    "# Solution 1 "
   ]
  },
  {
   "cell_type": "code",
   "execution_count": 68,
   "id": "d326cad0",
   "metadata": {},
   "outputs": [
    {
     "name": "stdout",
     "output_type": "stream",
     "text": [
      "Second smallest : 4 Second Largest : 56\n"
     ]
    }
   ],
   "source": [
    "mn=100000007\n",
    "mx=-100000007\n",
    "for i in l2:\n",
    "    if i!=min(l2):\n",
    "        mn=min(mn,i)\n",
    "    if i!=max(l2):\n",
    "        mx=max(mx,i)\n",
    "print('Second smallest : {} Second Largest : {}'.format(mn,mx))\n",
    "        "
   ]
  },
  {
   "cell_type": "code",
   "execution_count": 60,
   "id": "277c20f2",
   "metadata": {},
   "outputs": [],
   "source": [
    "# Solution 2"
   ]
  },
  {
   "cell_type": "code",
   "execution_count": 75,
   "id": "fb286133",
   "metadata": {},
   "outputs": [
    {
     "name": "stdout",
     "output_type": "stream",
     "text": [
      "Second smallest : 4 Second Largest : 56\n"
     ]
    }
   ],
   "source": [
    "print('Second smallest : {} Second Largest : {}'.format(sorted(l2)[1],sorted(l2)[len(l2)-2]))"
   ]
  },
  {
   "cell_type": "code",
   "execution_count": 81,
   "id": "ccfcd499",
   "metadata": {},
   "outputs": [],
   "source": [
    "# Solution 3 :Noob approach"
   ]
  },
  {
   "cell_type": "code",
   "execution_count": 97,
   "id": "bbfe6a2f",
   "metadata": {},
   "outputs": [],
   "source": [
    "l2=[2,4,9,11,16,75,45,23,56]"
   ]
  },
  {
   "cell_type": "code",
   "execution_count": 98,
   "id": "dacc9a04",
   "metadata": {},
   "outputs": [
    {
     "name": "stdout",
     "output_type": "stream",
     "text": [
      "Second smallest : 4 Second Largest : 56\n"
     ]
    }
   ],
   "source": [
    "p=set(l2)\n",
    "l2.remove(min(p))\n",
    "l2.remove(max(l2))\n",
    "print('Second smallest : {} Second Largest : {}'.format(min(l2),max(l2)))"
   ]
  },
  {
   "cell_type": "markdown",
   "id": "5dbcd6fb",
   "metadata": {},
   "source": [
    "8.\tWrite a program to find the average of all elements in a list."
   ]
  },
  {
   "cell_type": "code",
   "execution_count": 102,
   "id": "64ed30f3",
   "metadata": {},
   "outputs": [],
   "source": [
    "l3=[1,2,3,4,5]"
   ]
  },
  {
   "cell_type": "code",
   "execution_count": 100,
   "id": "f9010e8b",
   "metadata": {},
   "outputs": [],
   "source": [
    "#Solution 1"
   ]
  },
  {
   "cell_type": "code",
   "execution_count": 104,
   "id": "d1102166",
   "metadata": {},
   "outputs": [
    {
     "name": "stdout",
     "output_type": "stream",
     "text": [
      "Average: 3.0\n"
     ]
    }
   ],
   "source": [
    "print(\"Average:\",sum(l3)/len(l3))"
   ]
  },
  {
   "cell_type": "code",
   "execution_count": 105,
   "id": "1d3513d8",
   "metadata": {},
   "outputs": [],
   "source": [
    "# Solution 2"
   ]
  },
  {
   "cell_type": "code",
   "execution_count": 108,
   "id": "1f6d7c77",
   "metadata": {},
   "outputs": [
    {
     "name": "stdout",
     "output_type": "stream",
     "text": [
      "Average: 3.0\n"
     ]
    }
   ],
   "source": [
    "s,c=0,0\n",
    "for i in l3:\n",
    "    s+=i\n",
    "    c+=1\n",
    "print(\"Average:\",s/c)"
   ]
  },
  {
   "cell_type": "code",
   "execution_count": 111,
   "id": "57124fc1",
   "metadata": {},
   "outputs": [],
   "source": [
    "# Solution 3"
   ]
  },
  {
   "cell_type": "code",
   "execution_count": 110,
   "id": "2d669557",
   "metadata": {},
   "outputs": [
    {
     "name": "stdout",
     "output_type": "stream",
     "text": [
      "Average: 3.0\n"
     ]
    }
   ],
   "source": [
    "s,c=0,0\n",
    "for i in range(len(l3)):\n",
    "    s+=l3[i]\n",
    "    c+=1\n",
    "print(\"Average:\",s/c)"
   ]
  },
  {
   "cell_type": "code",
   "execution_count": 112,
   "id": "51997510",
   "metadata": {},
   "outputs": [],
   "source": [
    "# Solution 4"
   ]
  },
  {
   "cell_type": "code",
   "execution_count": 117,
   "id": "7e71a287",
   "metadata": {},
   "outputs": [
    {
     "name": "stdout",
     "output_type": "stream",
     "text": [
      "3.0\n"
     ]
    }
   ],
   "source": [
    "from statistics import mean\n",
    "print(float(mean(l3)))"
   ]
  },
  {
   "cell_type": "markdown",
   "id": "e424be55",
   "metadata": {},
   "source": [
    "9.\tWrite a program to to generate random numbers within a given range and store it in a list."
   ]
  },
  {
   "cell_type": "markdown",
   "id": "c4d4eda7",
   "metadata": {},
   "source": [
    " Range given = [3,7]"
   ]
  },
  {
   "cell_type": "code",
   "execution_count": 2,
   "id": "86f78e6f",
   "metadata": {},
   "outputs": [],
   "source": [
    "import random"
   ]
  },
  {
   "cell_type": "code",
   "execution_count": 120,
   "id": "401de35c",
   "metadata": {},
   "outputs": [],
   "source": [
    "#Solution 1"
   ]
  },
  {
   "cell_type": "code",
   "execution_count": 4,
   "id": "6e5f8bed",
   "metadata": {},
   "outputs": [
    {
     "name": "stdout",
     "output_type": "stream",
     "text": [
      "3\n",
      "Generate More?: Y/N:Y\n",
      "7\n",
      "Generate More?: Y/N:Y\n",
      "7\n",
      "Generate More?: Y/N:Y\n",
      "5\n",
      "Generate More?: Y/N:Y\n",
      "4\n",
      "Generate More?: Y/N:u\n",
      "Please Enter Valid Option !! \n",
      "\n",
      "3\n",
      "Generate More?: Y/N:N\n",
      "Generated Random Number's List : [3, 7, 7, 5]\n"
     ]
    }
   ],
   "source": [
    "k=True\n",
    "res=[]\n",
    "while(k):\n",
    "    print(a:=random.randint(3,7))\n",
    "    s=input(\"Generate More?: Y/N:\")\n",
    "    if s==\"N\":\n",
    "        k=False\n",
    "        print(\"Generated Random Number's List :\",res)\n",
    "    elif s==\"Y\":\n",
    "        res.append(a)\n",
    "    else:\n",
    "        print(\"Please Enter Valid Option !! \\n\")"
   ]
  },
  {
   "cell_type": "markdown",
   "id": "027ebb12",
   "metadata": {},
   "source": [
    "10.\tWrite a program to split the even and odd elements into 2 different lists."
   ]
  },
  {
   "cell_type": "code",
   "execution_count": 5,
   "id": "d5c55a46",
   "metadata": {},
   "outputs": [],
   "source": [
    "t=[1,2,3,4,5,6,7,8,9,10]"
   ]
  },
  {
   "cell_type": "code",
   "execution_count": 14,
   "id": "cb5a2299",
   "metadata": {},
   "outputs": [],
   "source": [
    "# Solution 1"
   ]
  },
  {
   "cell_type": "code",
   "execution_count": 12,
   "id": "da190e6a",
   "metadata": {},
   "outputs": [
    {
     "name": "stdout",
     "output_type": "stream",
     "text": [
      "Even Number's List: [2, 4, 6, 8, 10]\n",
      "Odd Number's List: [1, 3, 5, 7, 9]\n"
     ]
    }
   ],
   "source": [
    "eve=[]\n",
    "odd=[]\n",
    "for i in t:\n",
    "    if i%2!=0:\n",
    "        odd.append(i)\n",
    "    else:\n",
    "        eve.append(i)\n",
    "print(\"Even Number's List:\",eve)\n",
    "print(\"Odd Number's List:\",odd)"
   ]
  },
  {
   "cell_type": "code",
   "execution_count": 13,
   "id": "26b778e5",
   "metadata": {},
   "outputs": [],
   "source": [
    "# Solution 2"
   ]
  },
  {
   "cell_type": "code",
   "execution_count": 15,
   "id": "8b3f9643",
   "metadata": {},
   "outputs": [
    {
     "name": "stdout",
     "output_type": "stream",
     "text": [
      "Even Number's List: [2, 4, 6, 8, 10]\n",
      "Odd Number's List: [1, 3, 5, 7, 9]\n"
     ]
    }
   ],
   "source": [
    "eve=[]\n",
    "odd=[]\n",
    "for i in range(len(t)):\n",
    "    if t[i]%2!=0:\n",
    "        odd.append(t[i])\n",
    "    else:\n",
    "        eve.append(t[i])\n",
    "print(\"Even Number's List:\",eve)\n",
    "print(\"Odd Number's List:\",odd)"
   ]
  },
  {
   "cell_type": "code",
   "execution_count": 16,
   "id": "120fbc09",
   "metadata": {},
   "outputs": [],
   "source": [
    "# Solution 3"
   ]
  },
  {
   "cell_type": "code",
   "execution_count": 20,
   "id": "6b430c40",
   "metadata": {},
   "outputs": [
    {
     "name": "stdout",
     "output_type": "stream",
     "text": [
      "Even Number's List: [1, 3, 5, 7, 9]\n",
      "Odd Number's List: [2, 4, 6, 8, 10]\n"
     ]
    }
   ],
   "source": [
    "eve=[]\n",
    "odd=[]\n",
    "for i in range(0,len(t),2):\n",
    "    eve.append(t[i])\n",
    "for i in t:\n",
    "    if i not in eve:\n",
    "        odd.append(i)\n",
    "print(\"Even Number's List:\",eve)\n",
    "print(\"Odd Number's List:\",odd)    "
   ]
  },
  {
   "cell_type": "markdown",
   "id": "7873faba",
   "metadata": {},
   "source": [
    "11.\tWrite a Python program to create a tuple"
   ]
  },
  {
   "cell_type": "code",
   "execution_count": 33,
   "id": "839e7b11",
   "metadata": {},
   "outputs": [
    {
     "name": "stdout",
     "output_type": "stream",
     "text": [
      "('kishan', 'mishra')\n",
      "<class 'tuple'>\n"
     ]
    }
   ],
   "source": [
    "k=(\"kishan\",'mishra')\n",
    "print(k)\n",
    "print(type(k))"
   ]
  },
  {
   "cell_type": "markdown",
   "id": "e51531ea",
   "metadata": {},
   "source": [
    "12.\tWrite a Python program to create a tuple with different data types."
   ]
  },
  {
   "cell_type": "code",
   "execution_count": 38,
   "id": "0b483707",
   "metadata": {},
   "outputs": [
    {
     "name": "stdout",
     "output_type": "stream",
     "text": [
      "<class 'tuple'>\n",
      "<class 'tuple'>\n",
      "<class 'tuple'>\n"
     ]
    }
   ],
   "source": [
    "#integer list\n",
    "list1=[1,2,3,4,5]\n",
    "k1=tuple(list1)\n",
    "print(type(k1))\n",
    "\n",
    "#string list\n",
    "list2=[\"kishan\",\"mishra\"]\n",
    "k2=tuple(list2)\n",
    "print(type(k2))\n",
    "\n",
    "#set\n",
    "s1={1,2,3,4}\n",
    "k3=tuple(s1)\n",
    "print(type(k3))"
   ]
  },
  {
   "cell_type": "markdown",
   "id": "786b1288",
   "metadata": {},
   "source": [
    "13.\tWrite a Python program to unpack a tuple in several variables."
   ]
  },
  {
   "cell_type": "code",
   "execution_count": 41,
   "id": "0848d233",
   "metadata": {},
   "outputs": [],
   "source": [
    "# Solution"
   ]
  },
  {
   "cell_type": "code",
   "execution_count": 39,
   "id": "a6ac9e03",
   "metadata": {},
   "outputs": [
    {
     "name": "stdout",
     "output_type": "stream",
     "text": [
      "['kishan', 'is', 'my', 'name', '.']\n"
     ]
    }
   ],
   "source": [
    "k=(\"kishan\",\"is\",\"my\",\"name\",\".\")\n",
    "\n",
    "#Unpacking\n",
    "up_list=list(k)\n",
    "print(up_list)"
   ]
  },
  {
   "cell_type": "markdown",
   "id": "e0925443",
   "metadata": {},
   "source": [
    "14.\t Write a Python program to add an item in a tuple. "
   ]
  },
  {
   "cell_type": "code",
   "execution_count": 44,
   "id": "2f82236a",
   "metadata": {},
   "outputs": [],
   "source": [
    "# Element to add\n",
    "ele=2022\n",
    "k=(\"kishan\",\"is\",\"my\",\"name\",\".\")"
   ]
  },
  {
   "cell_type": "code",
   "execution_count": 45,
   "id": "bc5ba3e3",
   "metadata": {},
   "outputs": [
    {
     "name": "stdout",
     "output_type": "stream",
     "text": [
      "('kishan', 'is', 'my', 'name', '.', 2022)\n"
     ]
    }
   ],
   "source": [
    "up_list=list(k)\n",
    "up_list.append(ele)\n",
    "k=tuple(up_list)\n",
    "print(k)\n"
   ]
  },
  {
   "cell_type": "markdown",
   "id": "82197c8e",
   "metadata": {},
   "source": [
    "Write a Python program to convert a tuple to a string. "
   ]
  },
  {
   "cell_type": "code",
   "execution_count": 46,
   "id": "bb22e579",
   "metadata": {},
   "outputs": [],
   "source": [
    "k=(\"kishan\",\"is\",\"my\",\"name\",\".\")"
   ]
  },
  {
   "cell_type": "code",
   "execution_count": 47,
   "id": "c8e66d15",
   "metadata": {},
   "outputs": [
    {
     "name": "stdout",
     "output_type": "stream",
     "text": [
      "kishanismyname.\n"
     ]
    }
   ],
   "source": [
    "print(\"\".join(str(a) for a in k))"
   ]
  },
  {
   "cell_type": "markdown",
   "id": "790427f2",
   "metadata": {},
   "source": [
    "16.\tWrite a Python program to get the 4th element and 4th element from last of a tuple."
   ]
  },
  {
   "cell_type": "code",
   "execution_count": 49,
   "id": "39f98fc6",
   "metadata": {},
   "outputs": [],
   "source": [
    "tup=(1,2,3,4,5,6,'k','i','s','h','a','n')"
   ]
  },
  {
   "cell_type": "code",
   "execution_count": 54,
   "id": "315c91b3",
   "metadata": {},
   "outputs": [
    {
     "name": "stdout",
     "output_type": "stream",
     "text": [
      "4th Element : 4\n",
      "4th Last Element : s\n"
     ]
    }
   ],
   "source": [
    "print(\"4th Element : {}\\n4th Last Element : {}\".format(tup[3],tup[-4]))"
   ]
  },
  {
   "cell_type": "markdown",
   "id": "2ec4bedf",
   "metadata": {},
   "source": [
    "17.\tWrite a Python program to find the repeated items of a tuple."
   ]
  },
  {
   "cell_type": "code",
   "execution_count": 1,
   "id": "ec9b0cb9",
   "metadata": {},
   "outputs": [],
   "source": [
    "tup=(1,2,2,4,5,6,7,8,8,'k','i','i','s',5)"
   ]
  },
  {
   "cell_type": "code",
   "execution_count": 65,
   "id": "67e8e0d4",
   "metadata": {},
   "outputs": [],
   "source": [
    "# Solution 1"
   ]
  },
  {
   "cell_type": "code",
   "execution_count": 64,
   "id": "e022f71f",
   "metadata": {},
   "outputs": [
    {
     "name": "stdout",
     "output_type": "stream",
     "text": [
      "Repeated Elements in the tuple:\n",
      "2\n",
      "8\n",
      "i\n",
      "5\n"
     ]
    }
   ],
   "source": [
    "print(\"Repeated Elements in the tuple:\")\n",
    "s=set()\n",
    "for i in tup:\n",
    "    if i not in s:\n",
    "        s.add(i)\n",
    "    else:\n",
    "        print(i)"
   ]
  },
  {
   "cell_type": "markdown",
   "id": "360b640e",
   "metadata": {},
   "source": [
    "18.\tWrite a Python program to check whether an element exists within a tuple."
   ]
  },
  {
   "cell_type": "code",
   "execution_count": 70,
   "id": "5f9e3193",
   "metadata": {},
   "outputs": [],
   "source": [
    "# Element to Check\n",
    "ele='k'"
   ]
  },
  {
   "cell_type": "code",
   "execution_count": 68,
   "id": "7c836107",
   "metadata": {},
   "outputs": [],
   "source": [
    "# Solution 1"
   ]
  },
  {
   "cell_type": "code",
   "execution_count": 71,
   "id": "27158c64",
   "metadata": {},
   "outputs": [
    {
     "name": "stdout",
     "output_type": "stream",
     "text": [
      "True\n"
     ]
    }
   ],
   "source": [
    "print(ele in tup )"
   ]
  },
  {
   "cell_type": "code",
   "execution_count": 72,
   "id": "29b19c08",
   "metadata": {},
   "outputs": [],
   "source": [
    "# Solution 2"
   ]
  },
  {
   "cell_type": "code",
   "execution_count": 74,
   "id": "059df290",
   "metadata": {},
   "outputs": [
    {
     "name": "stdout",
     "output_type": "stream",
     "text": [
      "True\n"
     ]
    }
   ],
   "source": [
    "k=False\n",
    "for i in tup:\n",
    "    if i==\"k\":\n",
    "        k=True\n",
    "        break\n",
    "print(k)"
   ]
  },
  {
   "cell_type": "markdown",
   "id": "71600a9d",
   "metadata": {},
   "source": [
    "19.\tWrite a Python program to slice a tuple."
   ]
  },
  {
   "cell_type": "code",
   "execution_count": 91,
   "id": "3f7a505a",
   "metadata": {},
   "outputs": [
    {
     "name": "stdout",
     "output_type": "stream",
     "text": [
      "Tuple: (1, 2, 2, 4, 5, 6, 7, 8, 8, 'k', 'i', 'i', 's', 5)\n",
      "Enter the starting and ending range :9 12\n",
      "('k', 'i', 'i')\n"
     ]
    }
   ],
   "source": [
    "print(\"Tuple:\",tup)\n",
    "s,e=map(eval,input(\"Enter the starting and ending range :\").split())\n",
    "print(tup[s:e])\n"
   ]
  },
  {
   "cell_type": "markdown",
   "id": "69d096b3",
   "metadata": {},
   "source": [
    "20.\tWrite a Python program to find the index of an item of a tuple."
   ]
  },
  {
   "cell_type": "code",
   "execution_count": 2,
   "id": "02364130",
   "metadata": {},
   "outputs": [],
   "source": [
    "tup=(1,2,3,4,67,8,9,3)"
   ]
  },
  {
   "cell_type": "code",
   "execution_count": 93,
   "id": "b4d0a805",
   "metadata": {},
   "outputs": [],
   "source": [
    "# Solution"
   ]
  },
  {
   "cell_type": "code",
   "execution_count": 5,
   "id": "0051ecbc",
   "metadata": {},
   "outputs": [
    {
     "name": "stdout",
     "output_type": "stream",
     "text": [
      "Enter the element's index you want to see:4\n",
      "Index Position of 4 is 3\n"
     ]
    }
   ],
   "source": [
    "k=int(input('Enter the element\\'s index you want to see:'))\n",
    "for i in range(len(tup)):\n",
    "    if tup[i] == k:\n",
    "        print(f\"Index Position of {k} is {i}\")"
   ]
  },
  {
   "cell_type": "code",
   "execution_count": 6,
   "id": "ac2cfc68",
   "metadata": {},
   "outputs": [],
   "source": [
    "# Solution 2"
   ]
  },
  {
   "cell_type": "code",
   "execution_count": 7,
   "id": "a426f089",
   "metadata": {},
   "outputs": [
    {
     "name": "stdout",
     "output_type": "stream",
     "text": [
      "Enter the element's index you want to see:67\n",
      "Index Position of 67 is 4\n"
     ]
    }
   ],
   "source": [
    "k=int(input('Enter the element\\'s index you want to see:'))\n",
    "for i, x in enumerate(tup):\n",
    "    if x == k:\n",
    "        print(f\"Index Position of {k} is {i}\")"
   ]
  },
  {
   "cell_type": "code",
   "execution_count": 8,
   "id": "e517709f",
   "metadata": {},
   "outputs": [],
   "source": [
    "# Solution 3"
   ]
  },
  {
   "cell_type": "code",
   "execution_count": 11,
   "id": "6bbc4d49",
   "metadata": {},
   "outputs": [
    {
     "name": "stdout",
     "output_type": "stream",
     "text": [
      "Enter the element's index you want to see:9\n",
      "Index Position of 9 is 6\n"
     ]
    }
   ],
   "source": [
    "k=int(input('Enter the element\\'s index you want to see:'))\n",
    "print(f\"Index Position of {k} is {tup.index(k)}\")"
   ]
  },
  {
   "cell_type": "markdown",
   "id": "703c937f",
   "metadata": {},
   "source": [
    "21.\tWrite a Python program to find the length of a tuple."
   ]
  },
  {
   "cell_type": "code",
   "execution_count": 4,
   "id": "245de233",
   "metadata": {},
   "outputs": [],
   "source": [
    "tup=(1,2,3,4,67,8,9,3)"
   ]
  },
  {
   "cell_type": "code",
   "execution_count": 12,
   "id": "4a46b287",
   "metadata": {},
   "outputs": [],
   "source": [
    "# Solution"
   ]
  },
  {
   "cell_type": "code",
   "execution_count": 5,
   "id": "18a8718c",
   "metadata": {},
   "outputs": [
    {
     "name": "stdout",
     "output_type": "stream",
     "text": [
      "Length Of Tuple is  8\n"
     ]
    }
   ],
   "source": [
    "c=0\n",
    "for i in tup:\n",
    "    c+=1\n",
    "print(\"Length Of Tuple is \",c)"
   ]
  },
  {
   "cell_type": "code",
   "execution_count": 14,
   "id": "bcacdc59",
   "metadata": {},
   "outputs": [],
   "source": [
    "# Solution 2"
   ]
  },
  {
   "cell_type": "code",
   "execution_count": 6,
   "id": "3edf86c7",
   "metadata": {},
   "outputs": [
    {
     "name": "stdout",
     "output_type": "stream",
     "text": [
      "Length Of Tuple is  8\n"
     ]
    }
   ],
   "source": [
    "print(\"Length Of Tuple is \",len(tup))"
   ]
  },
  {
   "cell_type": "code",
   "execution_count": null,
   "id": "aa79dfaf",
   "metadata": {},
   "outputs": [],
   "source": []
  },
  {
   "cell_type": "code",
   "execution_count": 7,
   "id": "f05e8366",
   "metadata": {},
   "outputs": [
    {
     "name": "stdout",
     "output_type": "stream",
     "text": [
      "Length Of Tuple is  8\n"
     ]
    }
   ],
   "source": [
    "# Solution\n",
    "i=0\n",
    "c=0\n",
    "k=True\n",
    "try:\n",
    "    while(tup[i]!=None and k):\n",
    "        c+=1\n",
    "        i+=1\n",
    "except IndexError:\n",
    "    k=False\n",
    "print(\"Length Of Tuple is \",c)\n"
   ]
  },
  {
   "cell_type": "markdown",
   "id": "d5607443",
   "metadata": {},
   "source": [
    "22.\tWrite a Python program to convert a tuple to a dictionary."
   ]
  },
  {
   "cell_type": "code",
   "execution_count": 22,
   "id": "e54605dd",
   "metadata": {},
   "outputs": [],
   "source": [
    "#Tuple\n",
    "tup = ((\"Os\", \"Pass\"), (\"DMDW\", \"Pass\"), (\"MC\", \"Pass\"), (\"CN\", \"Fail:(\"))"
   ]
  },
  {
   "cell_type": "code",
   "execution_count": 21,
   "id": "6f07d29f",
   "metadata": {},
   "outputs": [
    {
     "name": "stdout",
     "output_type": "stream",
     "text": [
      "Dictionary : {'Os': 'Pass', 'DMDW': 'Pass', 'MC': 'Pass', 'CN': 'Fail:('}\n"
     ]
    }
   ],
   "source": [
    "d={}\n",
    "for i , j in tup:\n",
    "    d[i]=j\n",
    "print(\"Dictionary :\",d)"
   ]
  },
  {
   "cell_type": "markdown",
   "id": "fcc7c3ac",
   "metadata": {},
   "source": [
    "23.\tWrite a Python program to unzip a list of tuples into individual lists."
   ]
  },
  {
   "cell_type": "code",
   "execution_count": 112,
   "id": "506257b1",
   "metadata": {},
   "outputs": [],
   "source": [
    "l=[(1,2),(2,3),(4,5),(6,7)]"
   ]
  },
  {
   "cell_type": "code",
   "execution_count": 34,
   "id": "76801eb4",
   "metadata": {},
   "outputs": [],
   "source": [
    "# Solution 1"
   ]
  },
  {
   "cell_type": "code",
   "execution_count": 44,
   "id": "90a7d828",
   "metadata": {},
   "outputs": [
    {
     "name": "stdout",
     "output_type": "stream",
     "text": [
      "[[1, 2, 4, 6], [2, 3, 5, 7]]\n"
     ]
    }
   ],
   "source": [
    "res=[[i for i,j in l ],[j for i,j in l]]\n",
    "print(res)"
   ]
  },
  {
   "cell_type": "code",
   "execution_count": 35,
   "id": "a52b6795",
   "metadata": {},
   "outputs": [],
   "source": [
    "# Solution 2"
   ]
  },
  {
   "cell_type": "code",
   "execution_count": 52,
   "id": "2b4ff1d5",
   "metadata": {},
   "outputs": [
    {
     "name": "stdout",
     "output_type": "stream",
     "text": [
      "[[1, 2, 4, 6], [2, 3, 5, 7]]\n"
     ]
    }
   ],
   "source": [
    "s,k=[],[]\n",
    "for i,j in l:\n",
    "    k.append(i)\n",
    "    s.append(j)\n",
    "print([k,s])"
   ]
  },
  {
   "cell_type": "code",
   "execution_count": 53,
   "id": "15a64069",
   "metadata": {},
   "outputs": [],
   "source": [
    "# Solution 3"
   ]
  },
  {
   "cell_type": "code",
   "execution_count": 113,
   "id": "260a871a",
   "metadata": {},
   "outputs": [
    {
     "name": "stdout",
     "output_type": "stream",
     "text": [
      "[[1, 2], [2, 3], [4, 5], [6, 7]]\n"
     ]
    }
   ],
   "source": [
    "res=[]\n",
    "for i in l:\n",
    "    res.append(list(i))\n",
    "print(res)"
   ]
  },
  {
   "cell_type": "code",
   "execution_count": null,
   "id": "17a09bd1",
   "metadata": {},
   "outputs": [],
   "source": [
    "# Solution 4"
   ]
  },
  {
   "cell_type": "code",
   "execution_count": 66,
   "id": "1f2b8a02",
   "metadata": {},
   "outputs": [
    {
     "name": "stdout",
     "output_type": "stream",
     "text": [
      "[[1, 2, 4, 6], [2, 3, 5, 7]]\n"
     ]
    }
   ],
   "source": [
    "s=[]\n",
    "r=[]\n",
    "for i in zip(*l):\n",
    "    s.append(i)\n",
    "for i in s:\n",
    "    r.append([*i]) \n",
    "print(r)"
   ]
  },
  {
   "cell_type": "markdown",
   "id": "eeabb666",
   "metadata": {},
   "source": [
    "24.\tWrite a Python program to reverse a tuple. "
   ]
  },
  {
   "cell_type": "code",
   "execution_count": 73,
   "id": "f8cf1f66",
   "metadata": {},
   "outputs": [],
   "source": [
    "tup=(1,2,2,4,5,6,7,8,8,'k','i','i','s',5)"
   ]
  },
  {
   "cell_type": "code",
   "execution_count": 75,
   "id": "b5589630",
   "metadata": {},
   "outputs": [],
   "source": [
    "#Solution 1"
   ]
  },
  {
   "cell_type": "code",
   "execution_count": 74,
   "id": "9c0188a4",
   "metadata": {},
   "outputs": [
    {
     "name": "stdout",
     "output_type": "stream",
     "text": [
      "(5, 's', 'i', 'i', 'k', 8, 8, 7, 6, 5, 4, 2, 2, 1)\n"
     ]
    }
   ],
   "source": [
    "print(tup[::-1])"
   ]
  },
  {
   "cell_type": "code",
   "execution_count": 76,
   "id": "5e7610b8",
   "metadata": {},
   "outputs": [],
   "source": [
    "# Solution 2"
   ]
  },
  {
   "cell_type": "code",
   "execution_count": 78,
   "id": "6b215984",
   "metadata": {},
   "outputs": [
    {
     "name": "stdout",
     "output_type": "stream",
     "text": [
      "[5, 's', 'i', 'i', 'k', 8, 8, 7, 6, 5, 4, 2, 2, 1]\n"
     ]
    }
   ],
   "source": [
    "print([i for i in reversed(tup)])"
   ]
  },
  {
   "cell_type": "markdown",
   "id": "4667d1a3",
   "metadata": {},
   "source": [
    "25.\tWrite a Python program to convert a list of tuples into a dictionary."
   ]
  },
  {
   "cell_type": "code",
   "execution_count": 82,
   "id": "9a8b30f9",
   "metadata": {},
   "outputs": [
    {
     "name": "stdout",
     "output_type": "stream",
     "text": [
      "{'kishan': 'mishra', 'akash': 'sahoo', 'sanikesh': 'ojha'}\n"
     ]
    }
   ],
   "source": [
    "lst=[(\"kishan\",\"mishra\"),(\"akash\",\"sahoo\"),(\"sanikesh\",\"ojha\")]\n",
    "dic={}\n",
    "for i,j in lst:\n",
    "    dic[i]=j\n",
    "print(\"\")\n",
    "print(\"Dictionary Created:\\n\",dic)"
   ]
  },
  {
   "cell_type": "markdown",
   "id": "9aecc78f",
   "metadata": {},
   "source": [
    "26.\tWrite a Python program to print a tuple with string formatting. <br>\n",
    "Sample tuple : (100, 200, 300)<br>\n",
    "Output : This is a tuple (100, 200, 300)\n"
   ]
  },
  {
   "cell_type": "code",
   "execution_count": 94,
   "id": "821f95d5",
   "metadata": {},
   "outputs": [
    {
     "name": "stdout",
     "output_type": "stream",
     "text": [
      "This is a tuple (100, 200, 300)\n"
     ]
    }
   ],
   "source": [
    "Sample_tuple=(100, 200, 300)\n",
    "print(\"This is a tuple\",Sample_tuple)"
   ]
  },
  {
   "cell_type": "markdown",
   "id": "1b50785f",
   "metadata": {},
   "source": [
    "27.\tWrite a Python program to replace last value of tuples in a list.<br>\n",
    "Sample list: [(10, 20, 40), (40, 50, 60), (70, 80, 90)]<br>\n",
    "Expected Output: [(10, 20, 100), (40, 50, 100), (70, 80, 100)]\n"
   ]
  },
  {
   "cell_type": "code",
   "execution_count": 121,
   "id": "c2f0108d",
   "metadata": {},
   "outputs": [
    {
     "name": "stdout",
     "output_type": "stream",
     "text": [
      "Expected Output : [(10, 20, 100), (40, 50, 100), (70, 80, 100)]\n"
     ]
    }
   ],
   "source": [
    "Sample_list= [(10, 20, 40), (40, 50, 60), (70, 80, 90)]\n",
    "res,op=[],[]\n",
    "for i in Sample_list:\n",
    "    res.append(list(i))\n",
    "for i in range(len(res)):\n",
    "    res[i][-1]=100\n",
    "for i in res:\n",
    "    op.append(tuple(i))\n",
    "print(\"Expected Output :\",op)"
   ]
  },
  {
   "cell_type": "markdown",
   "id": "7210ad97",
   "metadata": {},
   "source": [
    "28.\tWrite a Python program to replace last value of tuples in a list.<br>\n",
    "Sample data: [(), (), ('',), ('a', 'b'), ('a', 'b', 'c'), ('d')]<br>\n",
    "Expected output: [('',), ('a', 'b'), ('a', 'b', 'c'), 'd']\n"
   ]
  },
  {
   "cell_type": "code",
   "execution_count": 133,
   "id": "e8cbc449",
   "metadata": {},
   "outputs": [
    {
     "name": "stdout",
     "output_type": "stream",
     "text": [
      "Expected output: [('',), ('a', 'b'), ('a', 'b', 'c'), 'd']\n"
     ]
    }
   ],
   "source": [
    "data= [(), (), ('',), ('a', 'b'), ('a', 'b', 'c'), ('d')]\n",
    "data[-1]=\"\".join(data[-1])\n",
    "res=[]\n",
    "for i in data:\n",
    "    if len(i)>0:\n",
    "        res.append(i)\n",
    "print(\"Expected output:\",res)"
   ]
  },
  {
   "cell_type": "markdown",
   "id": "295419c0",
   "metadata": {},
   "source": [
    "29.\tWrite a Python program to sort a tuple by its float element.<br>\n",
    "Sample data: [('item1', '12.20'), ('item2', '15.10'), ('item3', '24.5')]<br>\n",
    "Expected Output: [('item3', '24.5'), ('item2', '15.10'), ('item1', '12.20')]\n"
   ]
  },
  {
   "cell_type": "code",
   "execution_count": 134,
   "id": "d44f9c43",
   "metadata": {},
   "outputs": [],
   "source": [
    "data=[('item1', '12.20'), ('item2', '15.10'), ('item3', '24.5')]"
   ]
  },
  {
   "cell_type": "code",
   "execution_count": null,
   "id": "73dcdffa",
   "metadata": {},
   "outputs": [],
   "source": [
    "# Solution 1"
   ]
  },
  {
   "cell_type": "code",
   "execution_count": 137,
   "id": "f2c8af1f",
   "metadata": {},
   "outputs": [
    {
     "name": "stdout",
     "output_type": "stream",
     "text": [
      "[('item3', '24.5'), ('item2', '15.10'), ('item1', '12.20')]\n"
     ]
    }
   ],
   "source": [
    "print(sorted(data,reverse=True,key=lambda x:x[1]))"
   ]
  },
  {
   "cell_type": "markdown",
   "id": "750ef450",
   "metadata": {},
   "source": [
    "30.\tWrite a Python program to count the elements in a list until an element is a tuple."
   ]
  },
  {
   "cell_type": "code",
   "execution_count": 150,
   "id": "ef52738d",
   "metadata": {},
   "outputs": [],
   "source": [
    "data=[[\"kishan\"],[\"Mishra\"],['Sanikesh'],['Ojha'],[2],(2,3,4)]"
   ]
  },
  {
   "cell_type": "markdown",
   "id": "edd5739e",
   "metadata": {},
   "source": [
    "# Solution"
   ]
  },
  {
   "cell_type": "code",
   "execution_count": 153,
   "id": "a74881dd",
   "metadata": {},
   "outputs": [
    {
     "name": "stdout",
     "output_type": "stream",
     "text": [
      "5\n"
     ]
    }
   ],
   "source": [
    "c=0\n",
    "for i in data:\n",
    "    try:\n",
    "        i.append(1)\n",
    "        c+=1\n",
    "    except AttributeError:\n",
    "        break\n",
    "print(c)\n",
    "    "
   ]
  }
 ],
 "metadata": {
  "kernelspec": {
   "display_name": "Python 3",
   "language": "python",
   "name": "python3"
  },
  "language_info": {
   "codemirror_mode": {
    "name": "ipython",
    "version": 3
   },
   "file_extension": ".py",
   "mimetype": "text/x-python",
   "name": "python",
   "nbconvert_exporter": "python",
   "pygments_lexer": "ipython3",
   "version": "3.8.8"
  }
 },
 "nbformat": 4,
 "nbformat_minor": 5
}
